{
  "nbformat": 4,
  "nbformat_minor": 0,
  "metadata": {
    "colab": {
      "name": "fuzzywuzzy_v2.ipynb",
      "provenance": [],
      "authorship_tag": "ABX9TyN1so+tlysx6om1l18wxFvY",
      "include_colab_link": true
    },
    "kernelspec": {
      "name": "python3",
      "display_name": "Python 3"
    },
    "language_info": {
      "name": "python"
    }
  },
  "cells": [
    {
      "cell_type": "markdown",
      "metadata": {
        "id": "view-in-github",
        "colab_type": "text"
      },
      "source": [
        "<a href=\"https://colab.research.google.com/github/Guilinguista/FIAP2022/blob/main/fuzzywuzzy_v2.ipynb\" target=\"_parent\"><img src=\"https://colab.research.google.com/assets/colab-badge.svg\" alt=\"Open In Colab\"/></a>"
      ]
    },
    {
      "cell_type": "markdown",
      "source": [
        "Agora usando Inteligência Artificial "
      ],
      "metadata": {
        "id": "On_JQTbAKv5x"
      }
    },
    {
      "cell_type": "code",
      "execution_count": null,
      "metadata": {
        "id": "qP8vwI41KYt0"
      },
      "outputs": [],
      "source": [
        "pip install fuzzywuzzy[speedup]"
      ]
    },
    {
      "cell_type": "code",
      "source": [
        "from fuzzywuzzy import process"
      ],
      "metadata": {
        "id": "BWA8BHncLEOA"
      },
      "execution_count": 2,
      "outputs": []
    },
    {
      "cell_type": "code",
      "source": [
        "lista = [\"enforcar\", \"pular da ponte\", \"veneno\", \"envenenar\", \"envenenamento\", \"cortar o pulso\"]\n",
        "\n",
        "texto = input(\"Digite o texto: \")\n",
        "\n",
        "process.extract(texto, lista)"
      ],
      "metadata": {
        "id": "oywdyWCZLWkH",
        "colab": {
          "base_uri": "https://localhost:8080/"
        },
        "outputId": "1b3f6ae8-f0b5-4b84-fa35-c7f30b32fbc9"
      },
      "execution_count": 8,
      "outputs": [
        {
          "name": "stdout",
          "output_type": "stream",
          "text": [
            "Digite o texto: CACAR\n"
          ]
        },
        {
          "output_type": "execute_result",
          "data": {
            "text/plain": [
              "[('enforcar', 54),\n",
              " ('pular da ponte', 36),\n",
              " ('envenenar', 36),\n",
              " ('cortar o pulso', 36),\n",
              " ('envenenamento', 18)]"
            ]
          },
          "metadata": {},
          "execution_count": 8
        }
      ]
    },
    {
      "cell_type": "code",
      "source": [
        "def getMatch(field):\n",
        "  match_list = [\"enforcar\", \"pular da ponte\", \"veneno\", \"envenenar\", \"envenenamento\", \"cortar o pulso\"]\n",
        "  search_list=process.extract(field, match_list)\n",
        "  result = []\n",
        "  for text in search_list:\n",
        "      if text[1] > 36:\n",
        "        result.append(text)\n",
        "\n",
        "  if len(result) == 0:\n",
        "      return 'É um possível suicida? Não'\n",
        "  return 'O algorítmo classificou o item como sensível? Sim'\n",
        "\n",
        "getMatch(input())"
      ],
      "metadata": {
        "id": "RQrd_LSFNEfl",
        "colab": {
          "base_uri": "https://localhost:8080/",
          "height": 52
        },
        "outputId": "521b8991-76ee-45a6-f350-d0531470c4b8"
      },
      "execution_count": 23,
      "outputs": [
        {
          "name": "stdout",
          "output_type": "stream",
          "text": [
            "Quando vou tomar banho, sempre tomo no escuro para ter um momento reflexivo sobre qual sentido da minha vida\n"
          ]
        },
        {
          "output_type": "execute_result",
          "data": {
            "text/plain": [
              "'O algorítmo classificou o item como sensível? Sim'"
            ],
            "application/vnd.google.colaboratory.intrinsic+json": {
              "type": "string"
            }
          },
          "metadata": {},
          "execution_count": 23
        }
      ]
    }
  ]
}