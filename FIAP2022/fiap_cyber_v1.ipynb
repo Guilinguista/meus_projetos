{
  "nbformat": 4,
  "nbformat_minor": 0,
  "metadata": {
    "colab": {
      "name": "Untitled0.ipynb",
      "provenance": [],
      "authorship_tag": "ABX9TyMA1xwnnvYJQ8jhkAJ1r4/y",
      "include_colab_link": true
    },
    "kernelspec": {
      "name": "python3",
      "display_name": "Python 3"
    },
    "language_info": {
      "name": "python"
    }
  },
  "cells": [
    {
      "cell_type": "markdown",
      "metadata": {
        "id": "view-in-github",
        "colab_type": "text"
      },
      "source": [
        "<a href=\"https://colab.research.google.com/github/Guilinguista/FIAP2022/blob/main/fiap_cyber_v1.ipynb\" target=\"_parent\"><img src=\"https://colab.research.google.com/assets/colab-badge.svg\" alt=\"Open In Colab\"/></a>"
      ]
    },
    {
      "cell_type": "markdown",
      "source": [
        "\n",
        "Indentificação de possíveis suicídas "
      ],
      "metadata": {
        "id": "xfYbz5GfFFLv"
      }
    },
    {
      "cell_type": "code",
      "execution_count": null,
      "metadata": {
        "id": "KU4rX9DvDxQG"
      },
      "outputs": [],
      "source": [
        "# enforcar, pular da ponte, veneno, envenenar, envenenamento, cortar o pulso"
      ]
    },
    {
      "cell_type": "code",
      "source": [
        "lista = [\"enforcar\", \"pular da ponte\", \"veneno\", \"envenenar\", \"envenenamento\", \"cortar o pulso\"]\n",
        "\n",
        "texto = input() #blablabla\n",
        "if(texto in lista): \n",
        "  print(\"item proibido\") # tecla tab para indentação\n",
        "else:\n",
        "  print(\"intem permitido\") # tecla tab para indentação"
      ],
      "metadata": {
        "colab": {
          "base_uri": "https://localhost:8080/"
        },
        "id": "krpMVIdw2krB",
        "outputId": "9ee78092-6e4d-4b57-b824-8a958dbd9106"
      },
      "execution_count": 4,
      "outputs": [
        {
          "output_type": "stream",
          "name": "stdout",
          "text": [
            "enforcar\n",
            "item proibido\n"
          ]
        }
      ]
    },
    {
      "cell_type": "code",
      "source": [
        "import re\n",
        "\n",
        "def getMatchRegex(field):\n",
        "    match = re.search('(?i)(enforcar)|(pular da ponte)|(veneno)|(envenenar)|(envenenamento)|(cortar o pulso)', field.lower())\n",
        "\n",
        "    if match:\n",
        "      print(\"Perigo de suicídio\")\n",
        "    else:\n",
        "      print(\"You're fine\") \n",
        "\n",
        "getMatchRegex(input())\n",
        "\n",
        "\n"
      ],
      "metadata": {
        "colab": {
          "base_uri": "https://localhost:8080/"
        },
        "id": "jimzKrK54t2O",
        "outputId": "a0622801-0a77-4a54-d016-05919876896e"
      },
      "execution_count": 20,
      "outputs": [
        {
          "output_type": "stream",
          "name": "stdout",
          "text": [
            "Na escuridão, sempre vejo um futuro, já na luz, encontro angustia e dor\n",
            "You're fine\n"
          ]
        }
      ]
    },
    {
      "cell_type": "markdown",
      "source": [
        ""
      ],
      "metadata": {
        "id": "Mt0ajGE_2Xvx"
      }
    }
  ]
}